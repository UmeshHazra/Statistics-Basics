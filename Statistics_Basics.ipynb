{
  "nbformat": 4,
  "nbformat_minor": 0,
  "metadata": {
    "colab": {
      "provenance": []
    },
    "kernelspec": {
      "name": "python3",
      "display_name": "Python 3"
    },
    "language_info": {
      "name": "python"
    }
  },
  "cells": [
    {
      "cell_type": "markdown",
      "source": [
        "**1. What is statistics, and why is it important?**\n",
        "\n",
        "ANS:- **Statistics** is the branch of mathematics that deals with the collection, analysis, interpretation, presentation, and organization of data. It provides tools for understanding and making informed decisions based on data.\n",
        "\n",
        "---\n",
        "\n",
        "\n",
        "\n",
        "###  **Why Is Statistics Important?**\n",
        "\n",
        "1. **Informed Decision-Making**\n",
        "   Helps individuals and organizations make evidence-based decisions rather than relying on guesses.\n",
        "\n",
        "2. **Scientific Research**\n",
        "   Essential for designing experiments, analyzing results, and validating hypotheses in fields like medicine, psychology, and engineering.\n",
        "\n",
        "3. **Business and Economics**\n",
        "   Used for market analysis, forecasting, quality control, and customer behavior analysis.\n",
        "\n",
        "4. **Public Policy**\n",
        "   Guides decisions in health, education, and economics using population data and trends.\n",
        "\n",
        "5. **Data-Driven World**\n",
        "   In the era of big data, AI, and machine learning, statistics is foundational for algorithms, model evaluation, and data interpretation.\n",
        "\n",
        "---\n",
        "\n",
        "In summary, **statistics is the science of learning from data**, and it is critical across nearly every field where data is used to draw conclusions and make decisions.\n"
      ],
      "metadata": {
        "id": "6tHMryEZPQUf"
      }
    },
    {
      "cell_type": "markdown",
      "source": [
        "**2.What are the two main types of statistics?**\n",
        "\n",
        "ANS:- The two main types of statistics are:\n",
        "\n",
        "---\n",
        "\n",
        "### 1. **Descriptive Statistics**\n",
        "\n",
        "**Purpose:**\n",
        "To **summarize and describe** the main features of a dataset.\n",
        "\n",
        "**Key Characteristics:**\n",
        "\n",
        "* Focuses on presenting data in a clear and understandable form.\n",
        "* Does **not** make predictions or generalizations beyond the data.\n",
        "\n",
        "**Common Tools & Measures:**\n",
        "\n",
        "* **Measures of Central Tendency:** Mean, median, mode\n",
        "* **Measures of Dispersion:** Range, variance, standard deviation\n",
        "* **Visualization:** Bar charts, histograms, pie charts, box plots\n",
        "\n",
        "**Example:**\n",
        "A company calculates the average salary of its employees to understand current compensation levels.\n",
        "\n",
        "---\n",
        "\n",
        "### 2. **Inferential Statistics**\n",
        "\n",
        "**Purpose:**\n",
        "To **make predictions or inferences** about a population based on a sample of data.\n",
        "\n",
        "**Key Characteristics:**\n",
        "\n",
        "* Uses probability theory.\n",
        "* Allows for **generalizations** beyond the immediate data.\n",
        "* Deals with uncertainty and error margins.\n",
        "\n",
        "**Common Techniques:**\n",
        "\n",
        "* Hypothesis testing (e.g., t-tests, chi-square tests)\n",
        "* Confidence intervals\n",
        "* Regression analysis\n",
        "* ANOVA (Analysis of Variance)\n",
        "\n",
        "**Example:**\n",
        "A researcher uses a sample of 200 students to estimate the average GPA of all students in a university.\n"
      ],
      "metadata": {
        "id": "tZYbZc3DP7Tp"
      }
    },
    {
      "cell_type": "markdown",
      "source": [
        "**3. What are descriptive statistics?**\n",
        "\n",
        "ANS:- **Descriptive statistics** are methods used to **summarize, organize, and simplify** data. They help in understanding the **main features** of a dataset without making predictions or generalizations beyond it.\n",
        "\n",
        "---\n",
        "\n",
        "###  **Key Features of Descriptive Statistics:**\n",
        "\n",
        "1. **It deals with raw data only.**\n",
        "2. **It summarizes data using numbers, tables, or graphs.**\n",
        "3. **It does not involve probability or drawing conclusions beyond the data at hand.**\n",
        "\n",
        "---\n",
        "\n",
        "###  **Common Types of Descriptive Statistics**\n",
        "\n",
        "#### 1. **Measures of Central Tendency**\n",
        "\n",
        "These describe the center or average of a dataset:\n",
        "\n",
        "* **Mean** – The average value\n",
        "* **Median** – The middle value\n",
        "* **Mode** – The most frequent value\n",
        "\n",
        "#### 2. **Measures of Dispersion (Spread)**\n",
        "\n",
        "These show how much the data varies:\n",
        "\n",
        "* **Range** – Difference between the highest and lowest values\n",
        "* **Variance** – Average of the squared differences from the mean\n",
        "* **Standard Deviation** – Square root of variance; shows how spread out values are\n",
        "\n",
        "#### 3. **Measures of Position**\n",
        "\n",
        "* **Percentiles** and **quartiles** indicate the position of a value in the dataset.\n",
        "\n",
        "#### 4. **Data Visualization**\n",
        "\n",
        "* Helps in visual representation and easier interpretation:\n",
        "\n",
        "  * **Bar charts**\n",
        "  * **Histograms**\n",
        "  * **Pie charts**\n",
        "  * **Box plots**\n",
        "\n",
        "---\n",
        "\n",
        "###  **Example:**\n",
        "\n",
        "Suppose you have the test scores of 5 students:\n",
        "**78, 85, 90, 72, 88**\n",
        "\n",
        "* **Mean:** (78 + 85 + 90 + 72 + 88) / 5 = **82.6**\n",
        "* **Median:** 85 (middle value when sorted)\n",
        "* **Range:** 90 - 72 = **18**\n",
        "* **Standard Deviation:** Shows how much the scores deviate from the mean\n",
        "\n"
      ],
      "metadata": {
        "id": "oN_eFJypQSd1"
      }
    },
    {
      "cell_type": "markdown",
      "source": [
        "**4. What is inferential statistics?**\n",
        "\n",
        "ANS:- **Inferential statistics** is the branch of statistics that allows us to **draw conclusions or make predictions** about a larger population based on data from a **sample**.\n",
        "\n",
        "---\n",
        "\n",
        "###  **Key Characteristics of Inferential Statistics:**\n",
        "\n",
        "* Goes **beyond just describing** data.\n",
        "* Uses **probability theory** to estimate population parameters.\n",
        "* Helps in **making decisions under uncertainty**.\n",
        "* Involves **sampling**, as it's often impractical to collect data from an entire population.\n",
        "\n",
        "---\n",
        "\n",
        "###  **Main Purposes of Inferential Statistics:**\n",
        "\n",
        "1. **Estimation** – Estimate unknown population parameters (e.g., population mean, proportion).\n",
        "2. **Hypothesis Testing** – Test claims or assumptions about a population using sample data.\n",
        "3. **Prediction** – Forecast future outcomes based on current or past data.\n",
        "4. **Determining Relationships** – Examine correlations or causal effects between variables.\n",
        "\n",
        "---\n",
        "\n",
        "###  **Common Techniques in Inferential Statistics:**\n",
        "\n",
        "| Technique                | Purpose                                                                                              |\n",
        "| ------------------------ | ---------------------------------------------------------------------------------------------------- |\n",
        "| **Confidence Intervals** | Estimate a range in which a population parameter lies with a certain level of confidence (e.g., 95%) |\n",
        "| **Hypothesis Testing**   | Test assumptions (null and alternative hypotheses) about a population                                |\n",
        "| **T-tests & Z-tests**    | Compare means (e.g., between groups or to a known value)                                             |\n",
        "| **Chi-square tests**     | Analyze categorical data                                                                             |\n",
        "| **ANOVA**                | Compare means across multiple groups                                                                 |\n",
        "| **Regression Analysis**  | Study relationships between variables                                                                |\n",
        "\n",
        "---\n",
        "\n",
        "###  **Example:**\n",
        "\n",
        "A researcher wants to know if a new teaching method improves student performance.\n",
        "\n",
        "* They test 30 students (sample) who used the new method.\n",
        "* Then they use **inferential statistics** to decide whether the results apply to **all students** (population).\n",
        "\n"
      ],
      "metadata": {
        "id": "e_OUm-hWQh3v"
      }
    },
    {
      "cell_type": "markdown",
      "source": [
        "**5. What is sampling in statistics?**\n",
        "\n",
        "ANS:- **Sampling** in statistics is the process of **selecting a subset (sample)** from a larger group (population) to **analyze and draw conclusions** about the whole group.\n",
        "\n",
        "---\n",
        "\n",
        "###  **Key Concepts:**\n",
        "\n",
        "* **Population:** The entire group you're interested in studying (e.g., all university students in India).\n",
        "* **Sample:** A smaller group selected from the population (e.g., 500 students from different universities).\n",
        "\n",
        "---\n",
        "\n",
        "###  **Why Is Sampling Important?**\n",
        "\n",
        "1. **Efficiency:** Studying an entire population is often **time-consuming and expensive**.\n",
        "2. **Feasibility:** In many cases, it's **impossible to collect data** from everyone.\n",
        "3. **Accuracy:** A well-chosen sample can give **reliable insights** about the population.\n",
        "\n",
        "---\n",
        "\n",
        "\n",
        "\n",
        "\n",
        "###  **Example:**\n",
        "\n",
        "we want to estimate the average height of students in your college:\n",
        "\n",
        "* **Population:** All students in your college\n",
        "* **Sample:** 100 students randomly selected\n",
        "* **Use:** The sample mean height to estimate the average for all students\n",
        "\n"
      ],
      "metadata": {
        "id": "jeYPV31cQ41M"
      }
    },
    {
      "cell_type": "markdown",
      "source": [
        "**6. What are the different types of sampling methods?**\n",
        "\n",
        "ANS:- There are two main categories of **sampling methods** in statistics, each with several specific types:\n",
        "\n",
        "---\n",
        "\n",
        "## **1. Probability Sampling**\n",
        "\n",
        "In this method, **every member** of the population has a **known, non-zero chance** of being selected. It's the most reliable for making inferences.\n",
        "\n",
        "###  Types of Probability Sampling:\n",
        "\n",
        "| Method                     | Description                                                                     | Example                                                    |\n",
        "| -------------------------- | ------------------------------------------------------------------------------- | ---------------------------------------------------------- |\n",
        "| **Simple Random Sampling** | Each individual has an equal chance of being chosen.                            | Drawing names from a hat                                   |\n",
        "| **Systematic Sampling**    | Select every *k*th item from a list (e.g., every 10th person).                  | Every 5th person on a student list                         |\n",
        "| **Stratified Sampling**    | Divide population into **strata** (groups) and randomly sample from each group. | Sampling equally from each grade level in a school         |\n",
        "| **Cluster Sampling**       | Divide population into clusters, then randomly select entire clusters.          | Choose 3 random classrooms and survey all students in them |\n",
        "| **Multistage Sampling**    | Combines multiple methods, often cluster + random.                              | Randomly choose districts → then schools → then students   |\n",
        "\n",
        "---\n",
        "\n",
        "##  **2. Non-Probability Sampling**\n",
        "\n",
        "In this method, **not all members** have a chance of being selected. It's often used when probability sampling isn't feasible.\n",
        "\n",
        "###  Types of Non-Probability Sampling:\n",
        "\n",
        "| Method                              | Description                                                           | Example                                             |\n",
        "| ----------------------------------- | --------------------------------------------------------------------- | --------------------------------------------------- |\n",
        "| **Convenience Sampling**            | Select whoever is easiest to reach.                                   | Survey people near you                              |\n",
        "| **Judgmental (Purposive) Sampling** | Researcher selects who they think is most appropriate.                | Selecting expert doctors for a medical study        |\n",
        "| **Quota Sampling**                  | Ensure specific groups are represented, but selection is non-random.  | Interview 50 men and 50 women, picked non-randomly  |\n",
        "| **Snowball Sampling**               | Existing participants recruit others (good for hard-to-reach groups). | Surveying undocumented workers or niche communities |\n"
      ],
      "metadata": {
        "id": "pnRwXU6KRZEu"
      }
    },
    {
      "cell_type": "markdown",
      "source": [
        "**7. What is the difference between random and non-random sampling?**\n",
        "\n",
        "ANS:-  **Difference Between Random and Non-Random Sampling**\n",
        "\n",
        "\n",
        "---\n",
        "\n",
        "###  **Difference Between Random and Non-Random Sampling**\n",
        "\n",
        "| Feature                 | **Random Sampling**                          | **Non-Random Sampling**                           |\n",
        "| ----------------------- | -------------------------------------------- | ------------------------------------------------- |\n",
        "| **Selection Method**    | Based on chance or randomization             | Based on convenience, judgment, or other criteria |\n",
        "| **Chance of Selection** | Every member has a known, often equal chance | Not all members have a known or equal chance      |\n",
        "| **Bias**                | Low (more objective)                         | High (prone to bias)                              |\n",
        "| **Representativeness**  | Usually representative of the population     | Often not representative                          |\n",
        "| **Generalizability**    | High – results can be generalized            | Low – results are limited to the sample           |\n",
        "| **Complexity**          | More complex to design and implement         | Easier and quicker to carry out                   |\n",
        "| **Examples**            | Simple random, stratified, cluster sampling  | Convenience, judgmental, quota, snowball sampling |\n",
        "\n",
        "\n",
        "\n"
      ],
      "metadata": {
        "id": "vJ7KorrBRub_"
      }
    },
    {
      "cell_type": "markdown",
      "source": [
        "**8.Define and give examples of qualitative and quantitative data?**\n",
        "\n",
        "ANS:-  **Definition and Examples of Qualitative and Quantitative Data**\n",
        "\n",
        "| **Type of Data**                   | **Definition**                                                                         | **Examples**                                                                                                                           |\n",
        "| ---------------------------------- | -------------------------------------------------------------------------------------- | -------------------------------------------------------------------------------------------------------------------------------------- |\n",
        "| **Qualitative Data** (Categorical) | Describes **qualities or characteristics**; non-numerical data that can be categorized | - Colors of cars (red, blue, black) <br> - Types of fruits (apple, banana, mango) <br> - Gender (male, female) <br> - Yes/No responses |\n",
        "| **Quantitative Data** (Numerical)  | Represents **numerical values** that can be measured or counted                        | - Age (21 years) <br> - Temperature (36.6°C) <br> - Height (170 cm) <br> - Number of students (30)                                     |\n",
        "\n",
        "---\n",
        "\n",
        "###  Further Classification:\n",
        "\n",
        "#### ➤ **Qualitative Data**\n",
        "\n",
        "* **Nominal:** Categories with no logical order (e.g., blood type, religion)\n",
        "* **Ordinal:** Categories with a meaningful order but no fixed difference (e.g., satisfaction level: low, medium, high)\n",
        "\n",
        "#### ➤ **Quantitative Data**\n",
        "\n",
        "* **Discrete:** Countable numbers (e.g., number of books, cars)\n",
        "* **Continuous:** Measurable and can take any value in a range (e.g., weight, height, time)\n",
        "\n"
      ],
      "metadata": {
        "id": "XXYDGSOWSWxV"
      }
    },
    {
      "cell_type": "markdown",
      "source": [
        "**9.What are the different types of data in statistics?**\n",
        "\n",
        "ANS:- In statistics, data can be classified based on **type** and **level of measurement**. Here's a complete breakdown:\n",
        "\n",
        "---\n",
        "\n",
        "##  **1. Based on Nature (Qualitative vs. Quantitative)**\n",
        "\n",
        "| **Type**                           | **Description**                                           | **Examples**                                 |\n",
        "| ---------------------------------- | --------------------------------------------------------- | -------------------------------------------- |\n",
        "| **Qualitative Data** (Categorical) | Describes **qualities or characteristics**; non-numeric   | Gender, colors, blood type, nationality      |\n",
        "| **Quantitative Data** (Numerical)  | Represents **numeric values**; can be measured or counted | Age, height, weight, salary, number of books |\n",
        "\n",
        "---\n",
        "\n",
        "##  **2. Based on Measurement Levels**\n",
        "\n",
        "There are **four levels of measurement**, ranging from simple to complex:\n",
        "\n",
        "| **Level**    | **Type**     | **Description**                                                   | **Examples**                                   |\n",
        "| ------------ | ------------ | ----------------------------------------------------------------- | ---------------------------------------------- |\n",
        "| **Nominal**  | Qualitative  | Categories with **no natural order or ranking**                   | Gender (male/female), Blood type (A/B/O)       |\n",
        "| **Ordinal**  | Qualitative  | Categories with **a meaningful order**, but **no fixed interval** | Satisfaction (high/medium/low), Grades (A/B/C) |\n",
        "| **Interval** | Quantitative | Ordered data with **equal spacing**, but **no true zero**         | Temperature in Celsius, IQ scores              |\n",
        "| **Ratio**    | Quantitative | Ordered, equal intervals, and **a true zero** point               | Height, weight, age, income, distance          |\n",
        "\n"
      ],
      "metadata": {
        "id": "_f_zFeHZS0Xg"
      }
    },
    {
      "cell_type": "markdown",
      "source": [
        "**10. Explain nominal, ordinal, interval, and ratio levels of measurement?**\n",
        "\n",
        "ANS:- Sure! Here's a clear explanation of the **four levels of measurement** in statistics:\n",
        "\n",
        "---\n",
        "\n",
        "### 1. **Nominal Level**\n",
        "\n",
        "* **Definition:** Data are categorized into distinct groups or names **without any order or ranking**.\n",
        "* **Characteristics:**\n",
        "\n",
        "  * Categories are **mutually exclusive** (no overlap).\n",
        "  * No logical order or hierarchy between categories.\n",
        "* **Examples:**\n",
        "\n",
        "  * Gender (male, female)\n",
        "  * Blood type (A, B, AB, O)\n",
        "  * Colors (red, blue, green)\n",
        "* **Analysis:** Counting frequencies, mode.\n",
        "\n",
        "---\n",
        "\n",
        "### 2. **Ordinal Level**\n",
        "\n",
        "* **Definition:** Data are categorized with a **meaningful order or ranking**, but the **intervals between ranks are not equal or known**.\n",
        "* **Characteristics:**\n",
        "\n",
        "  * Shows relative position (e.g., first, second, third).\n",
        "  * Difference between ranks is not quantifiable.\n",
        "* **Examples:**\n",
        "\n",
        "  * Satisfaction ratings (satisfied, neutral, dissatisfied)\n",
        "  * Education level (high school, bachelor’s, master’s)\n",
        "  * Military ranks (private, sergeant, captain)\n",
        "* **Analysis:** Median, percentiles, rank correlation.\n",
        "\n",
        "---\n",
        "\n",
        "### 3. **Interval Level**\n",
        "\n",
        "* **Definition:** Numerical data with **equal intervals** between values, but **no true zero point**.\n",
        "* **Characteristics:**\n",
        "\n",
        "  * Differences are meaningful (e.g., difference between 20°C and 30°C is same as 30°C and 40°C).\n",
        "  * Zero does not mean absence of quantity (e.g., 0°C is not no temperature).\n",
        "* **Examples:**\n",
        "\n",
        "  * Temperature in Celsius or Fahrenheit\n",
        "  * IQ scores\n",
        "  * Calendar years (e.g., 2000, 2020)\n",
        "* **Analysis:** Mean, standard deviation, correlation.\n",
        "\n",
        "---\n",
        "\n",
        "### 4. **Ratio Level**\n",
        "\n",
        "* **Definition:** Numerical data with **equal intervals** and a **true zero point** that indicates absence of the quantity measured.\n",
        "* **Characteristics:**\n",
        "\n",
        "  * Zero means none of the quantity is present.\n",
        "  * Allows all arithmetic operations including ratios (e.g., twice as much).\n",
        "* **Examples:**\n",
        "\n",
        "  * Height, weight\n",
        "  * Age\n",
        "  * Income, distance, time duration\n",
        "* **Analysis:** Geometric mean, coefficient of variation, all statistical operations.\n",
        "\n"
      ],
      "metadata": {
        "id": "67oMxy-pTCMo"
      }
    },
    {
      "cell_type": "markdown",
      "source": [
        "**11. What is the measure of central tendency?**\n",
        "\n",
        "ANS:- The **measure of central tendency** is a statistical concept that describes the center or typical value of a dataset. It gives you an idea about where most of the data points cluster or the “average” value of the data.\n",
        "\n",
        "There are three main measures of central tendency:\n",
        "\n",
        "1. **Mean**\n",
        "\n",
        "   * The arithmetic average of all the data points.\n",
        "   * Calculated by adding all values together and dividing by the number of values.\n",
        "\n",
        "2. **Median**\n",
        "\n",
        "   * The middle value when the data points are arranged in order.\n",
        "   * If there is an even number of observations, the median is the average of the two middle values.\n",
        "\n",
        "3. **Mode**\n",
        "\n",
        "   * The value that appears most frequently in the dataset.\n",
        "   * A dataset can have one mode, more than one mode (bimodal or multimodal), or no mode if all values are unique.\n",
        "\n",
        "Each measure gives different insight depending on the shape and nature of the data. For example, the mean is sensitive to extreme values (outliers), while the median is more robust in that case.\n",
        "\n"
      ],
      "metadata": {
        "id": "AjoaURnfTTyv"
      }
    },
    {
      "cell_type": "markdown",
      "source": [
        "**12. Define mean, median, and mode?**\n",
        "\n",
        "ANS:- Sure! Here are clear definitions for each:\n",
        "\n",
        "### Mean\n",
        "\n",
        "The **mean** (or arithmetic mean) is the sum of all the values in a dataset divided by the number of values. It represents the average value.\n",
        "\n",
        "**Formula:**\n",
        "\n",
        "$$\n",
        "\\text{Mean} = \\frac{\\sum_{i=1}^n x_i}{n}\n",
        "$$\n",
        "\n",
        "where $x_i$ are the data points and $n$ is the number of data points.\n",
        "\n",
        "---\n",
        "\n",
        "### Median\n",
        "\n",
        "The **median** is the middle value of a dataset when the values are arranged in ascending (or descending) order. If the number of values is odd, it’s the middle number. If even, it’s the average of the two middle numbers.\n",
        "\n",
        "---\n",
        "\n",
        "### Mode\n",
        "\n",
        "The **mode** is the value that appears most frequently in the dataset. A dataset may have:\n",
        "\n",
        "* One mode (unimodal)\n",
        "* More than one mode (bimodal or multimodal)\n",
        "* No mode (if all values occur equally)\n",
        "\n"
      ],
      "metadata": {
        "id": "NpBQGdAbTjIQ"
      }
    },
    {
      "cell_type": "markdown",
      "source": [
        "**13.What is the significance of the measure of central tendency?**\n",
        "\n",
        "ANS:- The **significance of the measure of central tendency** lies in its ability to summarize a large set of data with a single representative value, helping us understand the “typical” or “central” characteristic of the dataset. Here’s why it’s important:\n",
        "\n",
        "1. **Simplifies Data Interpretation:**\n",
        "   Instead of dealing with hundreds or thousands of data points, measures of central tendency provide a quick snapshot of the data’s overall pattern.\n",
        "\n",
        "2. **Helps Compare Different Data Sets:**\n",
        "   By comparing the means or medians of different groups, we can easily identify differences or similarities.\n",
        "\n",
        "3. **Basis for Further Analysis:**\n",
        "   Many statistical methods and tests (like variance, standard deviation, regression) rely on the mean or median as a foundational concept.\n",
        "\n",
        "4. **Informs Decision-Making:**\n",
        "   Businesses, researchers, and policymakers use these measures to make informed decisions based on typical trends, like average income, median age, or most common product sold.\n",
        "\n",
        "5. **Detects Data Skewness:**\n",
        "   Comparing mean and median helps understand the distribution shape (e.g., if data is skewed left or right).\n",
        "\n",
        "6. **Helps in Identifying Outliers:**\n",
        "   Large differences between mean and median can indicate the presence of outliers or extreme values in the data.\n",
        "\n"
      ],
      "metadata": {
        "id": "TCrglH8eTzVK"
      }
    },
    {
      "cell_type": "markdown",
      "source": [
        "**14. What is variance, and how is it calculated?**\n",
        "\n",
        "ANS:- **Variance** is a measure of how spread out or dispersed the values in a dataset are around the mean. It quantifies the average of the squared differences between each data point and the mean. A higher variance means the data points are more spread out; a lower variance means they are closer to the mean.\n",
        "\n",
        "---\n",
        "\n",
        "### How is Variance Calculated?\n",
        "\n",
        "For a dataset $x_1, x_2, ..., x_n$:\n",
        "\n",
        "1. Calculate the mean $\\bar{x}$:\n",
        "\n",
        "$$\n",
        "\\bar{x} = \\frac{1}{n} \\sum_{i=1}^n x_i\n",
        "$$\n",
        "\n",
        "2. Subtract the mean from each data point and square the result:\n",
        "\n",
        "$$\n",
        "(x_i - \\bar{x})^2\n",
        "$$\n",
        "\n",
        "3. Find the average of these squared differences.\n",
        "\n",
        "---\n",
        "\n",
        "* **Population Variance** ($\\sigma^2$) formula:\n",
        "\n",
        "$$\n",
        "\\sigma^2 = \\frac{1}{N} \\sum_{i=1}^N (x_i - \\mu)^2\n",
        "$$\n",
        "\n",
        "where $N$ is the total number of data points and $\\mu$ is the population mean.\n",
        "\n",
        "* **Sample Variance** ($s^2$) formula:\n",
        "\n",
        "$$\n",
        "s^2 = \\frac{1}{n - 1} \\sum_{i=1}^n (x_i - \\bar{x})^2\n",
        "$$\n",
        "\n",
        "where $n$ is the sample size and $\\bar{x}$ is the sample mean.\n",
        "\n",
        "The difference is that sample variance divides by $n-1$ (called Bessel's correction) to provide an unbiased estimate of the population variance.\n"
      ],
      "metadata": {
        "id": "lxrzkGwxT-jQ"
      }
    },
    {
      "cell_type": "markdown",
      "source": [
        "**15.What is standard deviation, and why is it important?**\n",
        "\n",
        "ANS:- **Standard deviation** is a statistical measure that tells you how much the values in a dataset typically deviate (or vary) from the mean. It’s basically the square root of the variance.\n",
        "\n",
        "---\n",
        "\n",
        "### Definition:\n",
        "\n",
        "If variance measures the average squared difference from the mean, **standard deviation** brings it back to the original units of the data by taking the square root.\n",
        "\n",
        "---\n",
        "\n",
        "### Formula:\n",
        "\n",
        "* For a population:\n",
        "\n",
        "$$\n",
        "\\sigma = \\sqrt{\\frac{1}{N} \\sum_{i=1}^N (x_i - \\mu)^2}\n",
        "$$\n",
        "\n",
        "* For a sample:\n",
        "\n",
        "$$\n",
        "s = \\sqrt{\\frac{1}{n - 1} \\sum_{i=1}^n (x_i - \\bar{x})^2}\n",
        "$$\n",
        "\n",
        "---\n",
        "\n",
        "### Why is it important?\n",
        "\n",
        "1. **Measures Data Spread:**\n",
        "   It tells us how spread out the data points are around the mean. A small standard deviation means data points are clustered close to the mean, while a large standard deviation means they are spread out.\n",
        "\n",
        "2. **Same Unit as Data:**\n",
        "   Unlike variance (which is in squared units), standard deviation is in the same units as the data, making it easier to interpret.\n",
        "\n",
        "3. **Helps in Comparing Datasets:**\n",
        "   Standard deviation lets you compare the variability of different datasets, even if their means are different.\n",
        "\n",
        "4. **Foundation for Statistical Analysis:**\n",
        "   Many statistical tests and confidence intervals rely on standard deviation.\n",
        "\n",
        "5. **Detects Outliers:**\n",
        "   Points that lie far from the mean (several standard deviations away) can be considered outliers.\n",
        "\n"
      ],
      "metadata": {
        "id": "PciDrIecUMjF"
      }
    },
    {
      "cell_type": "markdown",
      "source": [
        "**16.Define and explain the term range in statistics?**\n",
        "\n",
        "ANS:- Sure! Here’s the definition and explanation:\n",
        "\n",
        "### Range (in statistics)\n",
        "\n",
        "The **range** is the simplest measure of dispersion or spread in a dataset. It represents the difference between the largest (maximum) and smallest (minimum) values in the dataset.\n",
        "\n",
        "---\n",
        "\n",
        "### Formula:\n",
        "\n",
        "$$\n",
        "\\text{Range} = \\text{Maximum value} - \\text{Minimum value}\n",
        "$$\n",
        "\n",
        "---\n",
        "\n",
        "### Explanation:\n",
        "\n",
        "* The range gives a quick idea of how spread out the data values are.\n",
        "* It’s easy to calculate and understand but only considers the two extreme values, ignoring the distribution of the rest of the data.\n",
        "* Because it depends only on the extremes, it can be heavily affected by outliers.\n",
        "\n",
        "---\n",
        "\n",
        "### Example:\n",
        "\n",
        "If your dataset is: \\[3, 7, 8, 10, 15], then\n",
        "\n",
        "$$\n",
        "\\text{Range} = 15 - 3 = 12\n",
        "$$\n",
        "\n"
      ],
      "metadata": {
        "id": "kx8UXzg0UW4D"
      }
    },
    {
      "cell_type": "markdown",
      "source": [
        "**17.What is the difference between variance and standard deviation?**\n",
        "\n",
        "ANS:- The difference between **variance** and **standard deviation**:\n",
        "\n",
        "| Aspect               | Variance                                                                                 | Standard Deviation                                          |\n",
        "| -------------------- | ---------------------------------------------------------------------------------------- | ----------------------------------------------------------- |\n",
        "| **Definition**       | The average of the squared differences from the mean.                                    | The square root of the variance.                            |\n",
        "| **Units**            | Squared units of the original data (e.g., if data is in meters, variance is in meters²). | Same units as the original data (e.g., meters).             |\n",
        "| **Interpretability** | Less intuitive because it’s in squared units.                                            | More intuitive since it’s in the same units as the data.    |\n",
        "| **Formula**          | $\\sigma^2 = \\frac{1}{N} \\sum (x_i - \\mu)^2$ (population)                                 | $\\sigma = \\sqrt{\\sigma^2}$ (population)                     |\n",
        "|                      | $s^2 = \\frac{1}{n-1} \\sum (x_i - \\bar{x})^2$ (sample)                                    | $s = \\sqrt{s^2}$ (sample)                                   |\n",
        "| **Purpose**          | Measures the average squared spread of data points around the mean.                      | Measures the typical distance of data points from the mean. |\n",
        "\n"
      ],
      "metadata": {
        "id": "SoXYEAUoUj7z"
      }
    },
    {
      "cell_type": "markdown",
      "source": [
        "**18. What is skewness in a dataset?**\n",
        "\n",
        "ANS:- **Skewness** is a statistical measure that describes the **asymmetry** or **lack of symmetry** in the distribution of data values in a dataset.\n",
        "\n",
        "---\n",
        "\n",
        "### What does skewness tell us?\n",
        "\n",
        "* **If a dataset is perfectly symmetrical** (like a normal distribution), its skewness is **0**.\n",
        "* **Positive skewness** (right-skewed): The right tail (larger values) is longer or fatter than the left tail. Most data points cluster on the left with some extreme high values.\n",
        "* **Negative skewness** (left-skewed): The left tail (smaller values) is longer or fatter than the right tail. Most data points cluster on the right with some extreme low values.\n",
        "\n",
        "---\n",
        "\n",
        "### Why is skewness important?\n",
        "\n",
        "* It helps understand the shape of the data distribution beyond just central tendency and spread.\n",
        "* Skewness affects statistical analyses and decisions, especially those that assume normality.\n",
        "* Identifying skewness can guide you in choosing appropriate statistical tests or data transformations.\n",
        "\n",
        "---\n",
        "\n",
        "### Visualization:\n",
        "\n",
        "* **Positive skew:**  $\\longleftarrow$ *peak* → tail stretches to the right\n",
        "* **Negative skew:** tail stretches to the left ← *peak* $\\longrightarrow$\n"
      ],
      "metadata": {
        "id": "uREGxnvDU0Hz"
      }
    },
    {
      "cell_type": "markdown",
      "source": [
        "**19.What does it mean if a dataset is positively or negatively skewed?**\n",
        "\n",
        "ANS:- If a dataset is **positively skewed** or **negatively skewed**, it means its distribution is asymmetric, with one tail longer or fatter than the other. Here’s what that implies:\n",
        "\n",
        "---\n",
        "\n",
        "### Positively Skewed (Right-Skewed)\n",
        "\n",
        "* The **right tail** (higher values) is longer or more spread out than the left tail.\n",
        "* Most data points are concentrated on the **left side** (lower values).\n",
        "* The mean is usually **greater than** the median because the extreme high values pull the mean to the right.\n",
        "* Example: Income distribution in many countries (a few very high incomes raise the average).\n",
        "\n",
        "---\n",
        "\n",
        "### Negatively Skewed (Left-Skewed)\n",
        "\n",
        "* The **left tail** (lower values) is longer or more spread out than the right tail.\n",
        "* Most data points are concentrated on the **right side** (higher values).\n",
        "* The mean is usually **less than** the median because the extreme low values pull the mean to the left.\n",
        "* Example: Scores on an easy exam where most students score high but a few score very low.\n",
        "\n",
        "---\n",
        "\n",
        "### Why it matters:\n",
        "\n",
        "* Skewness affects which measure of central tendency (mean, median) best represents the data.\n",
        "* It influences statistical analyses, many of which assume normal (symmetrical) distributions.\n"
      ],
      "metadata": {
        "id": "Q81MXJhRVGjx"
      }
    },
    {
      "cell_type": "markdown",
      "source": [
        "**20. Define and explain kurtosis.**\n",
        "\n",
        "ANS:- Sure! Here’s the definition and explanation of **kurtosis**:\n",
        "\n",
        "---\n",
        "\n",
        "### Kurtosis\n",
        "\n",
        "**Kurtosis** is a statistical measure that describes the **shape of the tails** and the **peak** of a data distribution compared to a normal distribution. It tells us how heavy or light the tails of the distribution are and how sharp or flat the peak is.\n",
        "\n",
        "---\n",
        "\n",
        "### Types of Kurtosis:\n",
        "\n",
        "1. **Mesokurtic**\n",
        "\n",
        "   * This is the kurtosis of a normal distribution.\n",
        "   * It has a moderate peak and tails.\n",
        "   * Kurtosis value (excess kurtosis) is around **0**.\n",
        "\n",
        "2. **Leptokurtic**\n",
        "\n",
        "   * Has a sharper peak and fatter (heavier) tails than a normal distribution.\n",
        "   * Indicates more data are concentrated around the mean and in the tails (more outliers).\n",
        "   * Excess kurtosis is **greater than 0**.\n",
        "\n",
        "3. **Platykurtic**\n",
        "\n",
        "   * Has a flatter peak and thinner (lighter) tails than a normal distribution.\n",
        "   * Indicates data are more evenly spread out with fewer outliers.\n",
        "   * Excess kurtosis is **less than 0**.\n"
      ],
      "metadata": {
        "id": "mnuq6WNlVV96"
      }
    },
    {
      "cell_type": "markdown",
      "source": [
        "**21.What is the purpose of covariance?**\n",
        "\n",
        "ANS:- The **purpose of covariance** is to measure the **direction and strength of the linear relationship** between two variables.\n",
        "\n",
        "---\n",
        "\n",
        "### Why is covariance important?\n",
        "\n",
        "1. **Understanding Relationships:**\n",
        "   Covariance helps determine if two variables move together or in opposite directions.\n",
        "\n",
        "2. **Foundation for Correlation:**\n",
        "   Covariance is used to calculate the correlation coefficient, which standardizes the relationship between variables, making it easier to interpret.\n",
        "\n",
        "3. **Useful in Finance:**\n",
        "   It helps in portfolio theory to understand how different assets move relative to each other, guiding diversification.\n",
        "\n",
        "4. **Data Analysis:**\n",
        "   Knowing covariance helps in modeling and predicting one variable based on another.\n",
        "\n"
      ],
      "metadata": {
        "id": "1JA-FJVnVkZK"
      }
    },
    {
      "cell_type": "markdown",
      "source": [
        "**22. What does correlation measure in statistics?**\n",
        "\n",
        "ANS:- **Correlation** in statistics measures the **strength and direction of a linear relationship** between two variables.\n",
        "\n",
        "---\n",
        "\n",
        "### What does correlation tell us?\n",
        "\n",
        "* **Direction:**\n",
        "\n",
        "  * **Positive correlation:** As one variable increases, the other tends to increase.\n",
        "  * **Negative correlation:** As one variable increases, the other tends to decrease.\n",
        "\n",
        "* **Strength:**\n",
        "\n",
        "  * Values range from **-1 to +1**.\n",
        "  * **+1** means a perfect positive linear relationship.\n",
        "  * **-1** means a perfect negative linear relationship.\n",
        "  * **0** means no linear relationship.\n",
        "\n",
        "---\n",
        "\n",
        "### Why is correlation important?\n",
        "\n",
        "* It quantifies how closely two variables move together.\n",
        "* Helps in predicting one variable based on another.\n",
        "* Widely used in fields like finance, psychology, health sciences, and more.\n",
        "* Unlike covariance, correlation is **standardized** and easier to interpret because it’s unitless.\n",
        "\n"
      ],
      "metadata": {
        "id": "OOpPRrGvVxRh"
      }
    },
    {
      "cell_type": "markdown",
      "source": [
        "**23.What is the difference between covariance and correlation?**\n",
        "\n",
        "ANS:- Comparison between **covariance** and **correlation**:\n",
        "\n",
        "| Aspect               | Covariance                                                                       | Correlation                                                                                                               |\n",
        "| -------------------- | -------------------------------------------------------------------------------- | ------------------------------------------------------------------------------------------------------------------------- |\n",
        "| **Definition**       | Measures the direction and degree to which two variables vary together.          | Measures the strength and direction of a linear relationship between two variables.                                       |\n",
        "| **Range of Values**  | Can be any value (positive, negative, or zero), unbounded.                       | Always between -1 and +1.                                                                                                 |\n",
        "| **Interpretability** | Harder to interpret because its magnitude depends on the units of the variables. | Easier to interpret due to standardization (unitless).                                                                    |\n",
        "| **Formula**          | $\\text{Cov}(X,Y) = \\frac{1}{n-1} \\sum (X_i - \\bar{X})(Y_i - \\bar{Y})$            | $\\text{Corr}(X,Y) = \\frac{\\text{Cov}(X,Y)}{\\sigma_X \\sigma_Y}$ (covariance divided by the product of standard deviations) |\n",
        "| **Units**            | Dependent on the units of X and Y (e.g., meters × kilograms).                    | Unitless, standardized measure.                                                                                           |\n",
        "| **Purpose**          | To see if two variables vary together and in what direction.                     | To understand the strength and direction of the linear relationship in a comparable way.                                  |\n",
        "\n"
      ],
      "metadata": {
        "id": "4O5r5hA9V941"
      }
    },
    {
      "cell_type": "markdown",
      "source": [
        "**24.What are some real-world applications of statistics?**\n",
        "\n",
        "ANS:- Statistics is everywhere in real life! Here are some key **real-world applications** of statistics across various fields:\n",
        "\n",
        "---\n",
        "\n",
        "### 1. **Healthcare & Medicine**\n",
        "\n",
        "* Analyzing clinical trial data to test new drugs or treatments.\n",
        "* Tracking disease outbreaks and predicting trends (like COVID-19 modeling).\n",
        "* Evaluating patient outcomes and treatment effectiveness.\n",
        "\n",
        "### 2. **Business & Marketing**\n",
        "\n",
        "* Market research to understand customer preferences and behavior.\n",
        "* Quality control and process improvement in manufacturing.\n",
        "* Sales forecasting and demand prediction.\n",
        "\n",
        "### 3. **Finance & Economics**\n",
        "\n",
        "* Risk assessment and portfolio management in investments.\n",
        "* Economic modeling and forecasting GDP, inflation, unemployment.\n",
        "* Credit scoring and fraud detection.\n",
        "\n",
        "### 4. **Sports**\n",
        "\n",
        "* Player performance analysis and team strategy development.\n",
        "* Predicting outcomes and setting betting odds.\n",
        "* Injury risk assessment and prevention.\n",
        "\n",
        "### 5. **Government & Public Policy**\n",
        "\n",
        "* Census data analysis for population insights.\n",
        "* Evaluating the impact of social programs and policies.\n",
        "* Crime statistics and resource allocation.\n",
        "\n",
        "### 6. **Education**\n",
        "\n",
        "* Measuring student performance and learning outcomes.\n",
        "* Designing standardized tests and assessments.\n",
        "* Analyzing enrollment and graduation trends.\n",
        "\n",
        "### 7. **Environmental Science**\n",
        "\n",
        "* Monitoring climate change and pollution levels.\n",
        "* Wildlife population studies and conservation efforts.\n",
        "* Natural disaster risk analysis.\n",
        "\n"
      ],
      "metadata": {
        "id": "zifFAw2kWQGh"
      }
    },
    {
      "cell_type": "markdown",
      "source": [
        "# Practical###"
      ],
      "metadata": {
        "id": "EvoFJUs1WeBs"
      }
    },
    {
      "cell_type": "markdown",
      "source": [
        "**1. How do you calculate the mean, median, and mode of a dataset?**\n",
        "\n",
        "ANS:-\n",
        "\n",
        "Here’s how you calculate **mean**, **median**, and **mode** of a dataset:\n",
        "\n",
        "---\n",
        "\n",
        "### 1. Mean (Average)\n",
        "\n",
        "* Add up all the values in the dataset.\n",
        "* Divide the sum by the total number of values.\n",
        "\n",
        "**Formula:**\n",
        "\n",
        "$$\n",
        "\\text{Mean} = \\frac{\\sum \\text{values}}{\\text{number of values}}\n",
        "$$\n",
        "\n",
        "**Example:**\n",
        "\n",
        "Dataset: 4, 8, 6, 5, 3\n",
        "\n",
        "Mean = (4 + 8 + 6 + 5 + 3) / 5 = 26 / 5 = 5.2\n",
        "\n",
        "---\n",
        "\n",
        "### 2. Median (Middle value)\n",
        "\n",
        "* Arrange the dataset in **ascending order**.\n",
        "* If the number of values is **odd**, the median is the middle number.\n",
        "* If the number of values is **even**, the median is the average of the two middle numbers.\n",
        "\n",
        "**Example (odd number of values):**\n",
        "\n",
        "Dataset: 3, 5, 6, 8, 9\n",
        "\n",
        "Median = 6 (middle value)\n",
        "\n",
        "**Example (even number of values):**\n",
        "\n",
        "Dataset: 3, 5, 6, 8\n",
        "\n",
        "Median = (5 + 6) / 2 = 5.5\n",
        "\n",
        "---\n",
        "\n",
        "### 3. Mode (Most frequent value)\n",
        "\n",
        "* The value that appears **most frequently** in the dataset.\n",
        "* A dataset can have:\n",
        "\n",
        "  * No mode (all values occur once)\n",
        "  * One mode (unimodal)\n",
        "  * More than one mode (bimodal or multimodal)\n",
        "\n",
        "**Example:**\n",
        "\n",
        "Dataset: 2, 4, 4, 6, 8\n",
        "\n",
        "Mode = 4 (appears twice)\n",
        "\n"
      ],
      "metadata": {
        "id": "7F2aFSTmWo-B"
      }
    },
    {
      "cell_type": "markdown",
      "source": [
        "**2. Write a Python program to compute the variance and standard deviation of a dataset?**\n",
        "\n",
        "ANS:-"
      ],
      "metadata": {
        "id": "mg-wvvG6X6-l"
      }
    },
    {
      "cell_type": "code",
      "source": [
        "# Python program to compute variance and standard deviation\n",
        "\n",
        "# Sample dataset\n",
        "data = [4, 8, 6, 5, 3]\n",
        "\n",
        "# Step 1: Calculate the mean\n",
        "mean = sum(data) / len(data)\n",
        "\n",
        "# Step 2: Calculate variance\n",
        "# Variance = average of squared differences from the mean\n",
        "squared_diff = [(x - mean) ** 2 for x in data]\n",
        "variance = sum(squared_diff) / len(data)\n",
        "\n",
        "# Step 3: Calculate standard deviation\n",
        "# Standard deviation = square root of variance\n",
        "std_deviation = variance ** 0.5\n",
        "\n",
        "# Output the results\n",
        "print(f\"Dataset: {data}\")\n",
        "print(f\"Mean: {mean}\")\n",
        "print(f\"Variance: {variance}\")\n",
        "print(f\"Standard Deviation: {std_deviation}\")\n"
      ],
      "metadata": {
        "colab": {
          "base_uri": "https://localhost:8080/"
        },
        "id": "oZ3SRcZVYEf6",
        "outputId": "60d376e9-0af0-4337-ed01-94fa7a55dfbe"
      },
      "execution_count": 1,
      "outputs": [
        {
          "output_type": "stream",
          "name": "stdout",
          "text": [
            "Dataset: [4, 8, 6, 5, 3]\n",
            "Mean: 5.2\n",
            "Variance: 2.96\n",
            "Standard Deviation: 1.7204650534085253\n"
          ]
        }
      ]
    },
    {
      "cell_type": "markdown",
      "source": [
        "**3.Create a dataset and classify it into nominal, ordinal, interval, and ratio types?**\n",
        "\n",
        "ANS:-"
      ],
      "metadata": {
        "id": "s4J9FPXoYNwu"
      }
    },
    {
      "cell_type": "code",
      "source": [
        "# Dataset with different data types\n",
        "\n",
        "# Nominal data: Categories without order\n",
        "nominal_data = ['Red', 'Blue', 'Green', 'Yellow']\n",
        "\n",
        "# Ordinal data: Categories with order\n",
        "ordinal_data = ['Poor', 'Average', 'Good', 'Excellent']\n",
        "\n",
        "# Interval data: Numeric data with equal intervals, no true zero\n",
        "interval_data = [10, 20, 30, 40]  # e.g., Temperature in °C\n",
        "\n",
        "# Ratio data: Numeric data with true zero\n",
        "ratio_data = [0, 5, 10, 20, 50]  # e.g., Weight in kg\n",
        "\n",
        "# Print dataset with data types\n",
        "print(\"Nominal Data (Categories):\", nominal_data)\n",
        "print(\"Ordinal Data (Ordered Categories):\", ordinal_data)\n",
        "print(\"Interval Data (Equal intervals, no true zero):\", interval_data)\n",
        "print(\"Ratio Data (Equal intervals with true zero):\", ratio_data)\n"
      ],
      "metadata": {
        "colab": {
          "base_uri": "https://localhost:8080/"
        },
        "id": "LZE50UuVYjS_",
        "outputId": "b73ecd05-a206-410e-fbdf-92d4839d49ed"
      },
      "execution_count": 2,
      "outputs": [
        {
          "output_type": "stream",
          "name": "stdout",
          "text": [
            "Nominal Data (Categories): ['Red', 'Blue', 'Green', 'Yellow']\n",
            "Ordinal Data (Ordered Categories): ['Poor', 'Average', 'Good', 'Excellent']\n",
            "Interval Data (Equal intervals, no true zero): [10, 20, 30, 40]\n",
            "Ratio Data (Equal intervals with true zero): [0, 5, 10, 20, 50]\n"
          ]
        }
      ]
    },
    {
      "cell_type": "markdown",
      "source": [
        "**4. Implement sampling techniques like random sampling and stratified sampling?**\n",
        "\n",
        "ANS:-\n",
        "\n",
        "### 1. Random Sampling\n",
        "\n",
        "Random sampling selects a sample randomly from the whole population, where each item has an equal chance to be selected.\n",
        "\n",
        "```python\n",
        "import random\n",
        "\n",
        "# Example population dataset (could be anything, here IDs 1 to 20)\n",
        "population = list(range(1, 21))\n",
        "\n",
        "# Random sample of size 5\n",
        "random_sample = random.sample(population, 5)\n",
        "\n",
        "print(\"Population:\", population)\n",
        "print(\"Random Sample:\", random_sample)\n",
        "```\n",
        "\n",
        "---\n",
        "\n",
        "### 2. Stratified Sampling\n",
        "\n",
        "Stratified sampling divides the population into groups (strata) based on a category, then samples randomly within each group proportionally.\n",
        "\n",
        "```python\n",
        "import random\n",
        "\n",
        "# Example population with strata (e.g., gender)\n",
        "population = [\n",
        "    {'id': 1, 'group': 'A'}, {'id': 2, 'group': 'B'}, {'id': 3, 'group': 'A'}, {'id': 4, 'group': 'B'},\n",
        "    {'id': 5, 'group': 'A'}, {'id': 6, 'group': 'B'}, {'id': 7, 'group': 'A'}, {'id': 8, 'group': 'B'},\n",
        "    {'id': 9, 'group': 'A'}, {'id': 10, 'group': 'B'}\n",
        "]\n",
        "\n",
        "# Separate population into strata\n",
        "stratum_A = [item for item in population if item['group'] == 'A']\n",
        "stratum_B = [item for item in population if item['group'] == 'B']\n",
        "\n",
        "# Sample size per stratum (e.g., 2 from each)\n",
        "sample_A = random.sample(stratum_A, 2)\n",
        "sample_B = random.sample(stratum_B, 2)\n",
        "\n",
        "# Combine samples\n",
        "stratified_sample = sample_A + sample_B\n",
        "\n",
        "print(\"Population:\", population)\n",
        "print(\"Stratified Sample:\", stratified_sample)\n",
        "```\n",
        "\n"
      ],
      "metadata": {
        "id": "qlIUMF-LYqlj"
      }
    },
    {
      "cell_type": "markdown",
      "source": [
        "**5. Write a Python function to calculate the range of a dataset.**\n",
        "\n",
        "ANS:-"
      ],
      "metadata": {
        "id": "n4mc96GBZjO8"
      }
    },
    {
      "cell_type": "code",
      "source": [
        "def calculate_range(data):\n",
        "    \"\"\"\n",
        "    Calculate the range of a dataset.\n",
        "    Range = Maximum value - Minimum value\n",
        "\n",
        "    Parameters:\n",
        "    data (list): A list of numeric values\n",
        "\n",
        "    Returns:\n",
        "    float: The range of the dataset\n",
        "    \"\"\"\n",
        "    if not data:\n",
        "        return None  # Handle empty list\n",
        "\n",
        "    return max(data) - min(data)\n",
        "\n",
        "# Example usage:\n",
        "dataset = [4, 8, 6, 5, 3]\n",
        "result = calculate_range(dataset)\n",
        "print(f\"The range of the dataset {dataset} is: {result}\")\n"
      ],
      "metadata": {
        "colab": {
          "base_uri": "https://localhost:8080/"
        },
        "id": "IARj810rZrms",
        "outputId": "dde03a92-8ad8-411b-8324-5f32672c7e5f"
      },
      "execution_count": 3,
      "outputs": [
        {
          "output_type": "stream",
          "name": "stdout",
          "text": [
            "The range of the dataset [4, 8, 6, 5, 3] is: 5\n"
          ]
        }
      ]
    },
    {
      "cell_type": "markdown",
      "source": [
        "**6. Create a dataset and plot its histogram to visualize skewness.**\n",
        "\n",
        "ANS:-"
      ],
      "metadata": {
        "id": "YBm1p_ydZtcu"
      }
    },
    {
      "cell_type": "code",
      "source": [
        "import matplotlib.pyplot as plt\n",
        "\n",
        "# Create a skewed dataset (right-skewed example)\n",
        "dataset = [2, 3, 3, 4, 5, 7, 8, 12, 15, 18, 22, 25, 30, 40, 50]\n",
        "\n",
        "# Plot histogram\n",
        "plt.hist(dataset, bins=8, color='skyblue', edgecolor='black')\n",
        "\n",
        "# Add titles and labels\n",
        "plt.title('Histogram of Dataset Showing Skewness')\n",
        "plt.xlabel('Value')\n",
        "plt.ylabel('Frequency')\n",
        "\n",
        "# Show plot\n",
        "plt.show()\n"
      ],
      "metadata": {
        "colab": {
          "base_uri": "https://localhost:8080/",
          "height": 472
        },
        "id": "8HWLbE7HZ16r",
        "outputId": "76097b2a-843a-449c-ee2b-17b6fa5142d3"
      },
      "execution_count": 4,
      "outputs": [
        {
          "output_type": "display_data",
          "data": {
            "text/plain": [
              "<Figure size 640x480 with 1 Axes>"
            ],
            "image/png": "[encoded data removed]"
          },
          "metadata": {}
        }
      ]
    },
    {
      "cell_type": "markdown",
      "source": [
        "**7. Calculate skewness and kurtosis of a dataset using Python libraries.**\n",
        "\n",
        "ANS:-"
      ],
      "metadata": {
        "id": "4ozJ7CFkZ8ni"
      }
    },
    {
      "cell_type": "code",
      "source": [
        "from scipy.stats import skew, kurtosis\n",
        "\n",
        "# Sample dataset\n",
        "data = [2, 3, 3, 4, 5, 7, 8, 12, 15, 18, 22, 25, 30, 40, 50]\n",
        "\n",
        "# Calculate skewness\n",
        "data_skewness = skew(data)\n",
        "\n",
        "# Calculate kurtosis\n",
        "# By default, scipy.stats.kurtosis computes \"excess kurtosis\"\n",
        "# (kurtosis - 3). To get regular kurtosis, set fisher=False.\n",
        "data_kurtosis = kurtosis(data, fisher=False)\n",
        "\n",
        "print(f\"Skewness of the dataset: {data_skewness:.4f}\")\n",
        "print(f\"Kurtosis of the dataset: {data_kurtosis:.4f}\")\n"
      ],
      "metadata": {
        "colab": {
          "base_uri": "https://localhost:8080/"
        },
        "id": "CuNjFKLUaFG2",
        "outputId": "6d242f6d-8592-4ca7-a236-6157d56cb05e"
      },
      "execution_count": 5,
      "outputs": [
        {
          "output_type": "stream",
          "name": "stdout",
          "text": [
            "Skewness of the dataset: 1.0070\n",
            "Kurtosis of the dataset: 2.9974\n"
          ]
        }
      ]
    },
    {
      "cell_type": "markdown",
      "source": [
        "**8.Generate a dataset and demonstrate positive and negative skewness.**\n",
        "\n",
        "ANS:-"
      ],
      "metadata": {
        "id": "cl-MB5gUaI2N"
      }
    },
    {
      "cell_type": "code",
      "source": [
        "import numpy as np\n",
        "import matplotlib.pyplot as plt\n",
        "from scipy.stats import skew\n",
        "\n",
        "# Generate a positively skewed dataset using exponential distribution\n",
        "positive_skew_data = np.random.exponential(scale=2, size=1000)\n",
        "\n",
        "# Generate a negatively skewed dataset by negating a positively skewed dataset\n",
        "negative_skew_data = -np.random.exponential(scale=2, size=1000)\n",
        "\n",
        "# Calculate skewness\n",
        "pos_skewness = skew(positive_skew_data)\n",
        "neg_skewness = skew(negative_skew_data)\n",
        "\n",
        "print(f\"Positive Skewness: {pos_skewness:.4f}\")\n",
        "print(f\"Negative Skewness: {neg_skewness:.4f}\")\n",
        "\n",
        "# Plot histograms\n",
        "fig, axes = plt.subplots(1, 2, figsize=(12, 5))\n",
        "\n",
        "axes[0].hist(positive_skew_data, bins=30, color='orange', edgecolor='black')\n",
        "axes[0].set_title('Positive Skewness Histogram')\n",
        "axes[0].set_xlabel('Value')\n",
        "axes[0].set_ylabel('Frequency')\n",
        "\n",
        "axes[1].hist(negative_skew_data, bins=30, color='blue', edgecolor='black')\n",
        "axes[1].set_title('Negative Skewness Histogram')\n",
        "axes[1].set_xlabel('Value')\n",
        "axes[1].set_ylabel('Frequency')\n",
        "\n",
        "plt.tight_layout()\n",
        "plt.show()\n"
      ],
      "metadata": {
        "colab": {
          "base_uri": "https://localhost:8080/",
          "height": 512
        },
        "id": "RLphyW22aSDl",
        "outputId": "b9f46f62-7cb0-49d9-c53f-b58a143325f1"
      },
      "execution_count": 6,
      "outputs": [
        {
          "output_type": "stream",
          "name": "stdout",
          "text": [
            "Positive Skewness: 2.0214\n",
            "Negative Skewness: -2.0832\n"
          ]
        },
        {
          "output_type": "display_data",
          "data": {
            "text/plain": [
              "<Figure size 1200x500 with 2 Axes>"
            ],
            "image/png": "[encoded data removed]"
          },
          "metadata": {}
        }
      ]
    },
    {
      "cell_type": "markdown",
      "source": [
        "**9. Write a Python script to calculate covariance between two datasets.**\n",
        "\n",
        "ANS:-"
      ],
      "metadata": {
        "id": "_qRZuBtoaXu8"
      }
    },
    {
      "cell_type": "code",
      "source": [
        "def calculate_covariance(x, y):\n",
        "    \"\"\"\n",
        "    Calculate covariance between two datasets x and y.\n",
        "\n",
        "    Parameters:\n",
        "    x (list or array): First dataset\n",
        "    y (list or array): Second dataset\n",
        "\n",
        "    Returns:\n",
        "    float: Covariance value\n",
        "    \"\"\"\n",
        "    if len(x) != len(y):\n",
        "        raise ValueError(\"Datasets x and y must have the same length\")\n",
        "\n",
        "    n = len(x)\n",
        "    mean_x = sum(x) / n\n",
        "    mean_y = sum(y) / n\n",
        "\n",
        "    covariance = sum((x[i] - mean_x) * (y[i] - mean_y) for i in range(n)) / n\n",
        "    return covariance\n",
        "\n",
        "# Example datasets\n",
        "data_x = [2, 4, 6, 8, 10]\n",
        "data_y = [5, 9, 12, 15, 18]\n",
        "\n",
        "cov = calculate_covariance(data_x, data_y)\n",
        "print(f\"Covariance between datasets: {cov:.4f}\")\n"
      ],
      "metadata": {
        "colab": {
          "base_uri": "https://localhost:8080/"
        },
        "id": "rk8g9nTdag_x",
        "outputId": "5d29ce40-1d93-47d9-960f-cba24ece8539"
      },
      "execution_count": 7,
      "outputs": [
        {
          "output_type": "stream",
          "name": "stdout",
          "text": [
            "Covariance between datasets: 12.8000\n"
          ]
        }
      ]
    },
    {
      "cell_type": "markdown",
      "source": [
        "**10. Write a Python script to calculate the correlation coefficient between two datasets.**\n",
        "\n",
        "ANS:-"
      ],
      "metadata": {
        "id": "kuubQ5HEaio6"
      }
    },
    {
      "cell_type": "code",
      "source": [
        "def calculate_correlation(x, y):\n",
        "    \"\"\"\n",
        "    Calculate the Pearson correlation coefficient between two datasets x and y.\n",
        "\n",
        "    Parameters:\n",
        "    x (list or array): First dataset\n",
        "    y (list or array): Second dataset\n",
        "\n",
        "    Returns:\n",
        "    float: Correlation coefficient\n",
        "    \"\"\"\n",
        "    if len(x) != len(y):\n",
        "        raise ValueError(\"Datasets x and y must have the same length\")\n",
        "\n",
        "    n = len(x)\n",
        "    mean_x = sum(x) / n\n",
        "    mean_y = sum(y) / n\n",
        "\n",
        "    numerator = sum((x[i] - mean_x) * (y[i] - mean_y) for i in range(n))\n",
        "    denominator_x = sum((x[i] - mean_x) ** 2 for i in range(n))\n",
        "    denominator_y = sum((y[i] - mean_y) ** 2 for i in range(n))\n",
        "\n",
        "    denominator = (denominator_x * denominator_y) ** 0.5\n",
        "\n",
        "    if denominator == 0:\n",
        "        return 0  # Avoid division by zero\n",
        "\n",
        "    correlation = numerator / denominator\n",
        "    return correlation\n",
        "\n",
        "# Example datasets\n",
        "data_x = [2, 4, 6, 8, 10]\n",
        "data_y = [5, 9, 12, 15, 18]\n",
        "\n",
        "corr = calculate_correlation(data_x, data_y)\n",
        "print(f\"Correlation coefficient between datasets: {corr:.4f}\")\n"
      ],
      "metadata": {
        "colab": {
          "base_uri": "https://localhost:8080/"
        },
        "id": "jqVvVIqbarN_",
        "outputId": "aaf2ff35-82ab-46fb-9b57-c45e322cfee9"
      },
      "execution_count": 8,
      "outputs": [
        {
          "output_type": "stream",
          "name": "stdout",
          "text": [
            "Correlation coefficient between datasets: 0.9981\n"
          ]
        }
      ]
    },
    {
      "cell_type": "markdown",
      "source": [
        "**11. Create a scatter plot to visualize the relationship between two variables.**\n",
        "\n",
        "ANS:-"
      ],
      "metadata": {
        "id": "i9Fq6nP4as3_"
      }
    },
    {
      "cell_type": "code",
      "source": [
        "import matplotlib.pyplot as plt\n",
        "\n",
        "# Example data\n",
        "x = [2, 4, 6, 8, 10]\n",
        "y = [5, 9, 12, 15, 18]\n",
        "\n",
        "# Create scatter plot\n",
        "plt.scatter(x, y, color='blue', marker='o')\n",
        "\n",
        "# Add title and labels\n",
        "plt.title('Scatter Plot of Two Variables')\n",
        "plt.xlabel('Variable X')\n",
        "plt.ylabel('Variable Y')\n",
        "\n",
        "# Show plot\n",
        "plt.grid(True)\n",
        "plt.show()\n"
      ],
      "metadata": {
        "colab": {
          "base_uri": "https://localhost:8080/",
          "height": 472
        },
        "id": "GMxHGCj9a1VO",
        "outputId": "e262c6a3-47b1-4126-db72-96b2af5c45d7"
      },
      "execution_count": 9,
      "outputs": [
        {
          "output_type": "display_data",
          "data": {
            "text/plain": [
              "<Figure size 640x480 with 1 Axes>"
            ],
            "image/png": "[encoded data removed]"
          },
          "metadata": {}
        }
      ]
    },
    {
      "cell_type": "markdown",
      "source": [
        "**12. Implement and compare simple random sampling and systematic sampling.**\n",
        "\n",
        "ANS:-"
      ],
      "metadata": {
        "id": "wJxVj-B2a3m2"
      }
    },
    {
      "cell_type": "code",
      "source": [
        "import random\n",
        "\n",
        "# Example population: numbers 1 to 20\n",
        "population = list(range(1, 21))\n",
        "sample_size = 5\n",
        "\n",
        "# 1. Simple Random Sampling\n",
        "simple_random_sample = random.sample(population, sample_size)\n",
        "\n",
        "# 2. Systematic Sampling\n",
        "# Select every k-th element after a random start\n",
        "k = len(population) // sample_size  # sampling interval\n",
        "start = random.randint(0, k - 1)\n",
        "systematic_sample = [population[i] for i in range(start, len(population), k)]\n",
        "systematic_sample = systematic_sample[:sample_size]  # ensure sample size\n",
        "\n",
        "print(\"Population:\", population)\n",
        "print(\"Simple Random Sample:\", simple_random_sample)\n",
        "print(\"Systematic Sample:\", systematic_sample)\n"
      ],
      "metadata": {
        "colab": {
          "base_uri": "https://localhost:8080/"
        },
        "id": "IIKUFicGbAWR",
        "outputId": "058f38b8-a40f-4875-897e-1494fd569fe8"
      },
      "execution_count": 10,
      "outputs": [
        {
          "output_type": "stream",
          "name": "stdout",
          "text": [
            "Population: [1, 2, 3, 4, 5, 6, 7, 8, 9, 10, 11, 12, 13, 14, 15, 16, 17, 18, 19, 20]\n",
            "Simple Random Sample: [11, 4, 10, 15, 9]\n",
            "Systematic Sample: [4, 8, 12, 16, 20]\n"
          ]
        }
      ]
    },
    {
      "cell_type": "markdown",
      "source": [
        "**13. Calculate the mean, median, and mode of grouped data.**\n",
        "\n",
        "ANS:- Here’s how you can calculate **mean**, **median**, and **mode** for **grouped data** with class intervals, using Python.\n",
        "\n",
        "---\n",
        "\n",
        "## Explanation of formulas:\n",
        "\n",
        "Given grouped data with:\n",
        "\n",
        "| Class Interval | Frequency (f) | Midpoint (x) |\n",
        "| -------------- | ------------- | ------------ |\n",
        "\n",
        "* **Mean:**\n",
        "\n",
        "$$\n",
        "\\bar{x} = \\frac{\\sum f x}{\\sum f}\n",
        "$$\n",
        "\n",
        "* **Median:**\n",
        "\n",
        "$$\n",
        "\\text{Median} = L + \\left(\\frac{\\frac{N}{2} - F}{f_m}\\right) \\times h\n",
        "$$\n",
        "\n",
        "where:\n",
        "$L$ = lower boundary of median class\n",
        "$N$ = total frequency\n",
        "$F$ = cumulative frequency before median class\n",
        "$f_m$ = frequency of median class\n",
        "$h$ = class width\n",
        "\n",
        "* **Mode:**\n",
        "\n",
        "$$\n",
        "\\text{Mode} = L + \\frac{(f_1 - f_0)}{(2f_1 - f_0 - f_2)} \\times h\n",
        "$$\n",
        "\n",
        "where:\n",
        "$L$ = lower boundary of modal class\n",
        "$f_1$ = frequency of modal class\n",
        "$f_0$ = frequency of class before modal class\n",
        "$f_2$ = frequency of class after modal class\n",
        "$h$ = class width\n",
        "\n"
      ],
      "metadata": {
        "id": "cU6vmfufbDye"
      }
    },
    {
      "cell_type": "code",
      "source": [
        "# Grouped data example: class intervals, frequencies\n",
        "class_intervals = [(10, 20), (20, 30), (30, 40), (40, 50), (50, 60)]\n",
        "frequencies = [5, 8, 15, 10, 2]\n",
        "\n",
        "# Calculate midpoints for each class\n",
        "midpoints = [(low + high) / 2 for (low, high) in class_intervals]\n",
        "\n",
        "# Total number of observations\n",
        "N = sum(frequencies)\n",
        "\n",
        "# Mean calculation\n",
        "mean = sum(f * x for f, x in zip(frequencies, midpoints)) / N\n",
        "\n",
        "# Median calculation\n",
        "cumulative_frequencies = []\n",
        "cumulative = 0\n",
        "for f in frequencies:\n",
        "    cumulative += f\n",
        "    cumulative_frequencies.append(cumulative)\n",
        "\n",
        "median_class_index = next(i for i, cf in enumerate(cumulative_frequencies) if cf >= N / 2)\n",
        "\n",
        "L = class_intervals[median_class_index][0]  # lower boundary of median class\n",
        "f_m = frequencies[median_class_index]\n",
        "F = 0 if median_class_index == 0 else cumulative_frequencies[median_class_index - 1]\n",
        "h = class_intervals[median_class_index][1] - class_intervals[median_class_index][0]\n",
        "\n",
        "median = L + ((N / 2 - F) / f_m) * h\n",
        "\n",
        "# Mode calculation\n",
        "modal_class_index = frequencies.index(max(frequencies))\n",
        "\n",
        "L_mode = class_intervals[modal_class_index][0]\n",
        "f1 = frequencies[modal_class_index]\n",
        "f0 = frequencies[modal_class_index - 1] if modal_class_index > 0 else 0\n",
        "f2 = frequencies[modal_class_index + 1] if modal_class_index < len(frequencies) - 1 else 0\n",
        "\n",
        "mode = L_mode + ((f1 - f0) / (2 * f1 - f0 - f2)) * h\n",
        "\n",
        "# Output results\n",
        "print(f\"Mean of grouped data: {mean:.2f}\")\n",
        "print(f\"Median of grouped data: {median:.2f}\")\n",
        "print(f\"Mode of grouped data: {mode:.2f}\")\n"
      ],
      "metadata": {
        "colab": {
          "base_uri": "https://localhost:8080/"
        },
        "id": "ngmRJKXkbJly",
        "outputId": "fa4fcf21-3422-4893-c948-20fcf297168b"
      },
      "execution_count": 11,
      "outputs": [
        {
          "output_type": "stream",
          "name": "stdout",
          "text": [
            "Mean of grouped data: 34.00\n",
            "Median of grouped data: 34.67\n",
            "Mode of grouped data: 35.83\n"
          ]
        }
      ]
    },
    {
      "cell_type": "markdown",
      "source": [
        "**14.Simulate data using Python and calculate its central tendency and dispersion..**\n",
        "\n",
        "ANS:-"
      ],
      "metadata": {
        "id": "AeLZldclbhU2"
      }
    },
    {
      "cell_type": "code",
      "source": [
        "import numpy as np\n",
        "from scipy import stats\n",
        "\n",
        "# Simulate dataset: 1000 points from a normal distribution\n",
        "data = np.random.normal(loc=50, scale=10, size=1000)\n",
        "\n",
        "# Central tendency\n",
        "mean = np.mean(data)\n",
        "median = np.median(data)\n",
        "mode = stats.mode(data, keepdims=True).mode[0]\n",
        "\n",
        "# Dispersion\n",
        "variance = np.var(data)\n",
        "std_dev = np.std(data)\n",
        "data_range = np.max(data) - np.min(data)\n",
        "\n",
        "# Output results\n",
        "print(f\"Mean: {mean:.2f}\")\n",
        "print(f\"Median: {median:.2f}\")\n",
        "print(f\"Mode: {mode:.2f}\")\n",
        "print(f\"Variance: {variance:.2f}\")\n",
        "print(f\"Standard Deviation: {std_dev:.2f}\")\n",
        "print(f\"Range: {data_range:.2f}\")\n"
      ],
      "metadata": {
        "colab": {
          "base_uri": "https://localhost:8080/"
        },
        "id": "VwDG3h25bpDG",
        "outputId": "1acf7f22-df6e-4158-cfd9-4ded147e7df4"
      },
      "execution_count": 12,
      "outputs": [
        {
          "output_type": "stream",
          "name": "stdout",
          "text": [
            "Mean: 50.30\n",
            "Median: 50.52\n",
            "Mode: 13.06\n",
            "Variance: 105.49\n",
            "Standard Deviation: 10.27\n",
            "Range: 65.28\n"
          ]
        }
      ]
    },
    {
      "cell_type": "markdown",
      "source": [
        "**15.Use NumPy or pandas to summarize a dataset’s descriptive statistics.**\n",
        "\n",
        "ANS:- Using Numpy:\n"
      ],
      "metadata": {
        "id": "UQFbqyT4bqxJ"
      }
    },
    {
      "cell_type": "code",
      "source": [
        "import numpy as np\n",
        "\n",
        "# Sample dataset\n",
        "data = np.array([12, 15, 14, 10, 18, 20, 22, 15, 17, 16])\n",
        "\n",
        "# Descriptive statistics\n",
        "mean = np.mean(data)\n",
        "median = np.median(data)\n",
        "std_dev = np.std(data)\n",
        "variance = np.var(data)\n",
        "minimum = np.min(data)\n",
        "maximum = np.max(data)\n",
        "\n",
        "print(\"NumPy Descriptive Statistics:\")\n",
        "print(f\"Mean: {mean}\")\n",
        "print(f\"Median: {median}\")\n",
        "print(f\"Standard Deviation: {std_dev}\")\n",
        "print(f\"Variance: {variance}\")\n",
        "print(f\"Minimum: {minimum}\")\n",
        "print(f\"Maximum: {maximum}\")\n"
      ],
      "metadata": {
        "colab": {
          "base_uri": "https://localhost:8080/"
        },
        "id": "af6kFMn-b3yD",
        "outputId": "7d0ea3ca-242b-4f1e-b653-96a0d94e48b8"
      },
      "execution_count": 13,
      "outputs": [
        {
          "output_type": "stream",
          "name": "stdout",
          "text": [
            "NumPy Descriptive Statistics:\n",
            "Mean: 15.9\n",
            "Median: 15.5\n",
            "Standard Deviation: 3.3896902513356584\n",
            "Variance: 11.49\n",
            "Minimum: 10\n",
            "Maximum: 22\n"
          ]
        }
      ]
    },
    {
      "cell_type": "markdown",
      "source": [
        "Using Pandas:"
      ],
      "metadata": {
        "id": "9AKqQMrMb6BA"
      }
    },
    {
      "cell_type": "code",
      "source": [
        "import pandas as pd\n",
        "\n",
        "# Sample dataset\n",
        "data = pd.Series([12, 15, 14, 10, 18, 20, 22, 15, 17, 16])\n",
        "\n",
        "# Summary statistics with describe()\n",
        "summary = data.describe()\n",
        "\n",
        "print(\"pandas Descriptive Statistics:\")\n",
        "print(summary)\n"
      ],
      "metadata": {
        "colab": {
          "base_uri": "https://localhost:8080/"
        },
        "id": "mcacv4kKb_zr",
        "outputId": "6c45e4ad-eae9-4fee-e17e-17ad73d575d3"
      },
      "execution_count": 14,
      "outputs": [
        {
          "output_type": "stream",
          "name": "stdout",
          "text": [
            "pandas Descriptive Statistics:\n",
            "count    10.000000\n",
            "mean     15.900000\n",
            "std       3.573047\n",
            "min      10.000000\n",
            "25%      14.250000\n",
            "50%      15.500000\n",
            "75%      17.750000\n",
            "max      22.000000\n",
            "dtype: float64\n"
          ]
        }
      ]
    },
    {
      "cell_type": "markdown",
      "source": [
        "**16. Plot a boxplot to understand the spread and identify outliers.**\n",
        "\n",
        "ANS:-"
      ],
      "metadata": {
        "id": "AauSE5VFcEPj"
      }
    },
    {
      "cell_type": "code",
      "source": [
        "import matplotlib.pyplot as plt\n",
        "import seaborn as sns\n",
        "import numpy as np\n",
        "\n",
        "# Sample data with some outliers\n",
        "data = np.array([12, 15, 14, 10, 18, 20, 22, 15, 17, 16, 100, 105])\n",
        "\n",
        "# Using matplotlib\n",
        "plt.boxplot(data)\n",
        "plt.title('Boxplot of Dataset')\n",
        "plt.ylabel('Values')\n",
        "plt.show()\n",
        "\n",
        "# Optional: Using seaborn for a nicer style\n",
        "sns.boxplot(x=data)\n",
        "plt.title('Boxplot of Dataset (Seaborn)')\n",
        "plt.show()\n"
      ],
      "metadata": {
        "colab": {
          "base_uri": "https://localhost:8080/",
          "height": 887
        },
        "id": "Rkyd75GacLMd",
        "outputId": "46b9f127-ee86-4427-e746-a763fb3e8176"
      },
      "execution_count": 15,
      "outputs": [
        {
          "output_type": "display_data",
          "data": {
            "text/plain": [
              "<Figure size 640x480 with 1 Axes>"
            ],
            "image/png": "[encoded data removed]"
          },
          "metadata": {}
        },
        {
          "output_type": "display_data",
          "data": {
            "text/plain": [
              "<Figure size 640x480 with 1 Axes>"
            ],
            "image/png": "[encoded data removed]"
          },
          "metadata": {}
        }
      ]
    },
    {
      "cell_type": "markdown",
      "source": [
        "**17. Calculate the interquartile range (IQR) of a dataset.**\n",
        "\n",
        "ANS:-"
      ],
      "metadata": {
        "id": "1nC2v-GfcNc6"
      }
    },
    {
      "cell_type": "code",
      "source": [
        "import numpy as np\n",
        "\n",
        "# Sample dataset\n",
        "data = [12, 15, 14, 10, 18, 20, 22, 15, 17, 16]\n",
        "\n",
        "# Calculate Q1 (25th percentile) and Q3 (75th percentile)\n",
        "Q1 = np.percentile(data, 25)\n",
        "Q3 = np.percentile(data, 75)\n",
        "\n",
        "# Calculate IQR\n",
        "IQR = Q3 - Q1\n",
        "\n",
        "print(f\"Q1 (25th percentile): {Q1}\")\n",
        "print(f\"Q3 (75th percentile): {Q3}\")\n",
        "print(f\"Interquartile Range (IQR): {IQR}\")\n"
      ],
      "metadata": {
        "colab": {
          "base_uri": "https://localhost:8080/"
        },
        "id": "tk6cvd6GcUvJ",
        "outputId": "5d45af99-9686-4920-b35a-ae2ab0d323f0"
      },
      "execution_count": 16,
      "outputs": [
        {
          "output_type": "stream",
          "name": "stdout",
          "text": [
            "Q1 (25th percentile): 14.25\n",
            "Q3 (75th percentile): 17.75\n",
            "Interquartile Range (IQR): 3.5\n"
          ]
        }
      ]
    },
    {
      "cell_type": "markdown",
      "source": [
        "**18. Implement Z-score normalization and explain its significance.**\n",
        "\n",
        "ANS:-"
      ],
      "metadata": {
        "id": "jzQBYNUGeo2x"
      }
    },
    {
      "cell_type": "code",
      "source": [
        "import numpy as np\n",
        "\n",
        "# Sample dataset\n",
        "data = np.array([12, 15, 14, 10, 18, 20, 22, 15, 17, 16])\n",
        "\n",
        "# Calculate mean and standard deviation\n",
        "mean = np.mean(data)\n",
        "std = np.std(data)\n",
        "\n",
        "# Z-score normalization formula: (x - mean) / std\n",
        "z_scores = (data - mean) / std\n",
        "\n",
        "print(\"Original Data:\", data)\n",
        "print(\"Z-score Normalized Data:\", np.round(z_scores, 2))\n"
      ],
      "metadata": {
        "colab": {
          "base_uri": "https://localhost:8080/"
        },
        "id": "7drdN49Xey64",
        "outputId": "0a97e610-2471-40c2-c34d-ebfbfcc44411"
      },
      "execution_count": 17,
      "outputs": [
        {
          "output_type": "stream",
          "name": "stdout",
          "text": [
            "Original Data: [12 15 14 10 18 20 22 15 17 16]\n",
            "Z-score Normalized Data: [-1.15 -0.27 -0.56 -1.74  0.62  1.21  1.8  -0.27  0.32  0.03]\n"
          ]
        }
      ]
    },
    {
      "cell_type": "markdown",
      "source": [
        "##  What is Z-score Normalization?\n",
        "\n",
        "Z-score normalization (also called **standardization**) transforms your data so that:\n",
        "\n",
        "* The **mean** of the data becomes `0`\n",
        "* The **standard deviation** becomes `1`\n",
        "\n",
        "The formula is:\n",
        "\n",
        "$$\n",
        "z = \\frac{x - \\mu}{\\sigma}\n",
        "$$\n",
        "\n",
        "Where:\n",
        "\n",
        "* $x$ = data point\n",
        "* $\\mu$ = mean\n",
        "* $\\sigma$ = standard deviation\n",
        "\n",
        "\n"
      ],
      "metadata": {
        "id": "yeKLKeMfe0QG"
      }
    },
    {
      "cell_type": "markdown",
      "source": [
        "**19. Compare two datasets using their standard deviations.**\n",
        "\n",
        "ANS:-  **compare two datasets using their standard deviations** and implement it in Python.\n",
        "\n",
        "---\n",
        "\n",
        "##  Concept\n",
        "\n",
        "**Standard deviation (SD)** measures how spread out the values in a dataset are:\n",
        "\n",
        "* **Low SD** → values are close to the mean (less variation)\n",
        "* **High SD** → values are spread out (more variation)\n",
        "\n",
        "Comparing two datasets using SD helps you understand which one is more consistent or variable.\n",
        "\n"
      ],
      "metadata": {
        "id": "r0oUnxdwe7__"
      }
    },
    {
      "cell_type": "code",
      "source": [
        "import numpy as np\n",
        "\n",
        "# Dataset A: Consistent scores\n",
        "data_a = [50, 52, 51, 49, 48, 50, 51, 52, 50, 49]\n",
        "\n",
        "# Dataset B: More varied scores\n",
        "data_b = [40, 60, 55, 45, 70, 30, 65, 35, 50, 60]\n",
        "\n",
        "# Calculate standard deviations\n",
        "std_a = np.std(data_a)\n",
        "std_b = np.std(data_b)\n",
        "\n",
        "print(\"Standard Deviation of Dataset A:\", round(std_a, 2))\n",
        "print(\"Standard Deviation of Dataset B:\", round(std_b, 2))\n",
        "\n",
        "# Interpretation\n",
        "if std_a < std_b:\n",
        "    print(\"Dataset A is more consistent (less variation).\")\n",
        "else:\n",
        "    print(\"Dataset B is more consistent (less variation).\")\n"
      ],
      "metadata": {
        "colab": {
          "base_uri": "https://localhost:8080/"
        },
        "id": "yuzcvlLhfRde",
        "outputId": "33171d31-0f71-4f3d-9d1a-fed5cd01b7a8"
      },
      "execution_count": 18,
      "outputs": [
        {
          "output_type": "stream",
          "name": "stdout",
          "text": [
            "Standard Deviation of Dataset A: 1.25\n",
            "Standard Deviation of Dataset B: 12.61\n",
            "Dataset A is more consistent (less variation).\n"
          ]
        }
      ]
    },
    {
      "cell_type": "markdown",
      "source": [
        "**20.Write a Python program to visualize covariance using a heatmap.**\n",
        "\n",
        "ANS:-"
      ],
      "metadata": {
        "id": "dpb2--okfUcI"
      }
    },
    {
      "cell_type": "code",
      "source": [
        "import numpy as np\n",
        "import pandas as pd\n",
        "import seaborn as sns\n",
        "import matplotlib.pyplot as plt\n",
        "\n",
        "# Create a sample dataset\n",
        "data = {\n",
        "    'Math': [88, 92, 80, 89, 100, 95, 85],\n",
        "    'Science': [84, 85, 78, 88, 92, 90, 86],\n",
        "    'English': [70, 78, 82, 72, 74, 68, 80]\n",
        "}\n",
        "\n",
        "# Convert to DataFrame\n",
        "df = pd.DataFrame(data)\n",
        "\n",
        "# Compute covariance matrix\n",
        "cov_matrix = df.cov()\n",
        "\n",
        "# Plot heatmap\n",
        "plt.figure(figsize=(8, 6))\n",
        "sns.heatmap(cov_matrix, annot=True, cmap='coolwarm', fmt=\".2f\", linewidths=0.5)\n",
        "plt.title(\"Covariance Heatmap\")\n",
        "plt.show()\n"
      ],
      "metadata": {
        "colab": {
          "base_uri": "https://localhost:8080/",
          "height": 545
        },
        "id": "0sXl0R7vfbKl",
        "outputId": "02af6551-a4fb-491b-88ce-afe0513e0abe"
      },
      "execution_count": 19,
      "outputs": [
        {
          "output_type": "display_data",
          "data": {
            "text/plain": [
              "<Figure size 800x600 with 2 Axes>"
            ],
            "image/png": "[encoded data removed]"
          },
          "metadata": {}
        }
      ]
    },
    {
      "cell_type": "markdown",
      "source": [
        "**21. Use seaborn to create a correlation matrix for a dataset.**\n",
        "\n",
        "ANS:-"
      ],
      "metadata": {
        "id": "UNML2l_qfcyI"
      }
    },
    {
      "cell_type": "code",
      "source": [
        "import pandas as pd\n",
        "import seaborn as sns\n",
        "import matplotlib.pyplot as plt\n",
        "\n",
        "# Sample dataset\n",
        "data = {\n",
        "    'Math': [88, 92, 80, 89, 100, 95, 85],\n",
        "    'Science': [84, 85, 78, 88, 92, 90, 86],\n",
        "    'English': [70, 78, 82, 72, 74, 68, 80],\n",
        "    'History': [65, 75, 70, 68, 80, 72, 74]\n",
        "}\n",
        "\n",
        "# Convert to DataFrame\n",
        "df = pd.DataFrame(data)\n",
        "\n",
        "# Compute correlation matrix\n",
        "corr_matrix = df.corr()\n",
        "\n",
        "# Plot heatmap\n",
        "plt.figure(figsize=(8, 6))\n",
        "sns.heatmap(corr_matrix, annot=True, cmap='coolwarm', fmt=\".2f\", linewidths=0.5)\n",
        "plt.title(\"Correlation Matrix Heatmap\")\n",
        "plt.show()\n"
      ],
      "metadata": {
        "colab": {
          "base_uri": "https://localhost:8080/",
          "height": 545
        },
        "id": "bcCNnmqpfjfa",
        "outputId": "fc5dbdf9-ec3e-416a-fb7a-3f4731d9fcbd"
      },
      "execution_count": 20,
      "outputs": [
        {
          "output_type": "display_data",
          "data": {
            "text/plain": [
              "<Figure size 800x600 with 2 Axes>"
            ],
            "image/png": "[encoded data removed]"
          },
          "metadata": {}
        }
      ]
    },
    {
      "cell_type": "markdown",
      "source": [
        "**22.Generate a dataset and implement both variance and standard deviation computations.**\n",
        "\n",
        "ANS:-"
      ],
      "metadata": {
        "id": "hr5DME_EflFA"
      }
    },
    {
      "cell_type": "code",
      "source": [
        "import numpy as np\n",
        "\n",
        "# Step 1: Generate a dataset (e.g., 15 random integers between 10 and 100)\n",
        "data = np.random.randint(10, 100, size=15)\n",
        "\n",
        "# Step 2: Compute variance and standard deviation using NumPy\n",
        "variance_np = np.var(data)\n",
        "std_dev_np = np.std(data)\n",
        "\n",
        "# Step 3: Manual computation\n",
        "mean = sum(data) / len(data)\n",
        "squared_diffs = [(x - mean) ** 2 for x in data]\n",
        "variance_manual = sum(squared_diffs) / len(data)\n",
        "std_dev_manual = variance_manual ** 0.5\n",
        "\n",
        "# Step 4: Display results\n",
        "print(\"Dataset:\", data)\n",
        "print(f\"\\nUsing NumPy:\")\n",
        "print(f\"Variance: {variance_np:.2f}\")\n",
        "print(f\"Standard Deviation: {std_dev_np:.2f}\")\n",
        "\n",
        "print(f\"\\nManual Computation:\")\n",
        "print(f\"Variance: {variance_manual:.2f}\")\n",
        "print(f\"Standard Deviation: {std_dev_manual:.2f}\")\n"
      ],
      "metadata": {
        "colab": {
          "base_uri": "https://localhost:8080/"
        },
        "id": "3IhEH28kfvq1",
        "outputId": "c30c747f-6e8b-45ca-cb39-32713157b154"
      },
      "execution_count": 21,
      "outputs": [
        {
          "output_type": "stream",
          "name": "stdout",
          "text": [
            "Dataset: [91 27 36 11 49 37 70 80 50 45 18 78 26 85 71]\n",
            "\n",
            "Using NumPy:\n",
            "Variance: 628.91\n",
            "Standard Deviation: 25.08\n",
            "\n",
            "Manual Computation:\n",
            "Variance: 628.91\n",
            "Standard Deviation: 25.08\n"
          ]
        }
      ]
    },
    {
      "cell_type": "markdown",
      "source": [
        "**23.Visualize skewness and kurtosis using Python libraries like matplotlib or seaborn.**\n",
        "\n",
        "ANS:-"
      ],
      "metadata": {
        "id": "qi11ZMoIfxQv"
      }
    },
    {
      "cell_type": "code",
      "source": [
        "import numpy as np\n",
        "import seaborn as sns\n",
        "import matplotlib.pyplot as plt\n",
        "from scipy.stats import skew, kurtosis\n",
        "\n",
        "# Step 1: Generate a dataset (positively skewed)\n",
        "data = np.random.exponential(scale=2, size=1000)\n",
        "\n",
        "# Step 2: Calculate skewness and kurtosis\n",
        "data_skewness = skew(data)\n",
        "data_kurtosis = kurtosis(data)  # Excess kurtosis (normal dist = 0)\n",
        "\n",
        "# Step 3: Visualization using Seaborn\n",
        "plt.figure(figsize=(10, 6))\n",
        "sns.histplot(data, kde=True, color='skyblue', bins=30)\n",
        "plt.title(f'Distribution Plot\\nSkewness = {data_skewness:.2f}, Kurtosis = {data_kurtosis:.2f}')\n",
        "plt.xlabel(\"Values\")\n",
        "plt.ylabel(\"Frequency\")\n",
        "plt.grid(True)\n",
        "plt.show()\n"
      ],
      "metadata": {
        "colab": {
          "base_uri": "https://localhost:8080/",
          "height": 585
        },
        "id": "6CoXM0NNf7kA",
        "outputId": "c70265a6-d82d-44aa-fe98-5e2a3b11840f"
      },
      "execution_count": 22,
      "outputs": [
        {
          "output_type": "display_data",
          "data": {
            "text/plain": [
              "<Figure size 1000x600 with 1 Axes>"
            ],
            "image/png": "[encoded data removed]"
          },
          "metadata": {}
        }
      ]
    },
    {
      "cell_type": "markdown",
      "source": [
        "**24. Implement the Pearson and Spearman correlation coefficients for a dataset.**\n",
        "\n",
        "ANS:-"
      ],
      "metadata": {
        "id": "3b9LEJagf9Mn"
      }
    },
    {
      "cell_type": "code",
      "source": [
        "import pandas as pd\n",
        "from scipy.stats import pearsonr, spearmanr\n",
        "\n",
        "# Sample dataset\n",
        "data = {\n",
        "    'Study_Hours': [1, 2, 3, 4, 5, 6, 7],\n",
        "    'Exam_Score':  [35, 45, 50, 60, 65, 70, 80]\n",
        "}\n",
        "\n",
        "# Convert to DataFrame\n",
        "df = pd.DataFrame(data)\n",
        "\n",
        "# Extract variables\n",
        "x = df['Study_Hours']\n",
        "y = df['Exam_Score']\n",
        "\n",
        "# Pearson correlation (measures linear relationship)\n",
        "pearson_corr, _ = pearsonr(x, y)\n",
        "\n",
        "# Spearman correlation (measures monotonic relationship)\n",
        "spearman_corr, _ = spearmanr(x, y)\n",
        "\n",
        "# Display results\n",
        "print(\"Dataset:\")\n",
        "print(df)\n",
        "\n",
        "print(f\"\\nPearson Correlation Coefficient: {pearson_corr:.3f}\")\n",
        "print(f\"Spearman Correlation Coefficient: {spearman_corr:.3f}\")\n"
      ],
      "metadata": {
        "colab": {
          "base_uri": "https://localhost:8080/"
        },
        "id": "rQqA1dywgElY",
        "outputId": "071449c1-1fc9-41cf-9d49-7c5bcb6acd5a"
      },
      "execution_count": 23,
      "outputs": [
        {
          "output_type": "stream",
          "name": "stdout",
          "text": [
            "Dataset:\n",
            "   Study_Hours  Exam_Score\n",
            "0            1          35\n",
            "1            2          45\n",
            "2            3          50\n",
            "3            4          60\n",
            "4            5          65\n",
            "5            6          70\n",
            "6            7          80\n",
            "\n",
            "Pearson Correlation Coefficient: 0.995\n",
            "Spearman Correlation Coefficient: 1.000\n"
          ]
        }
      ]
    }
  ]
}